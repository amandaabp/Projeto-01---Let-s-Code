{
  "cells": [
    {
      "cell_type": "markdown",
      "id": "69bcc70e",
      "metadata": {
        "id": "69bcc70e"
      },
      "source": [
        "Processamento de dados:\n",
        "- criar tabela com todos os MQLs, com todas as informações disponíveis para cada um.\n",
        "- criar uma coluna com quais MQLs fecharam acordo e quais foram perdidos."
      ]
    },
    {
      "cell_type": "markdown",
      "id": "FjicXDQeoTUw",
      "metadata": {
        "id": "FjicXDQeoTUw"
      },
      "source": [
        "Inclusão bibliotecas"
      ]
    },
    {
      "cell_type": "code",
      "execution_count": 1,
      "id": "r0Jb0HiboS-6",
      "metadata": {
        "id": "r0Jb0HiboS-6"
      },
      "outputs": [],
      "source": [
        "import pandas as pd"
      ]
    },
    {
      "cell_type": "code",
      "execution_count": 2,
      "id": "nqjlpRgOoFCk",
      "metadata": {
        "id": "nqjlpRgOoFCk"
      },
      "outputs": [],
      "source": [
        "df_qualified = pd.read_csv(\"dados/dados01/olist_marketing_qualified_leads_dataset.csv\")\n",
        "df_closed    = pd.read_csv(\"dados/dados01/olist_closed_deals_dataset.csv\")"
      ]
    },
    {
      "cell_type": "code",
      "execution_count": 3,
      "id": "0DrUv7y8xWLR",
      "metadata": {
        "id": "0DrUv7y8xWLR"
      },
      "outputs": [],
      "source": [
        "df_closed[\"is_closed\"] = 1"
      ]
    },
    {
      "cell_type": "code",
      "execution_count": 4,
      "id": "819ARWp1JiWS",
      "metadata": {
        "id": "819ARWp1JiWS"
      },
      "outputs": [],
      "source": [
        "closed_qualified = df_qualified.merge(df_closed, on='mql_id', how='left')"
      ]
    },
    {
      "cell_type": "code",
      "execution_count": 5,
      "id": "fmubPqp5JiZq",
      "metadata": {
        "colab": {
          "base_uri": "https://localhost:8080/",
          "height": 305
        },
        "id": "fmubPqp5JiZq",
        "outputId": "149f4eac-c584-4279-e3c3-2a2ebe5cc93c"
      },
      "outputs": [
        {
          "data": {
            "text/html": [
              "<div>\n",
              "<style scoped>\n",
              "    .dataframe tbody tr th:only-of-type {\n",
              "        vertical-align: middle;\n",
              "    }\n",
              "\n",
              "    .dataframe tbody tr th {\n",
              "        vertical-align: top;\n",
              "    }\n",
              "\n",
              "    .dataframe thead th {\n",
              "        text-align: right;\n",
              "    }\n",
              "</style>\n",
              "<table border=\"1\" class=\"dataframe\">\n",
              "  <thead>\n",
              "    <tr style=\"text-align: right;\">\n",
              "      <th></th>\n",
              "      <th>mql_id</th>\n",
              "      <th>first_contact_date</th>\n",
              "      <th>landing_page_id</th>\n",
              "      <th>origin</th>\n",
              "      <th>seller_id</th>\n",
              "      <th>sdr_id</th>\n",
              "      <th>sr_id</th>\n",
              "      <th>won_date</th>\n",
              "      <th>business_segment</th>\n",
              "      <th>lead_type</th>\n",
              "      <th>lead_behaviour_profile</th>\n",
              "      <th>has_company</th>\n",
              "      <th>has_gtin</th>\n",
              "      <th>average_stock</th>\n",
              "      <th>business_type</th>\n",
              "      <th>declared_product_catalog_size</th>\n",
              "      <th>declared_monthly_revenue</th>\n",
              "      <th>is_closed</th>\n",
              "    </tr>\n",
              "  </thead>\n",
              "  <tbody>\n",
              "    <tr>\n",
              "      <th>0</th>\n",
              "      <td>dac32acd4db4c29c230538b72f8dd87d</td>\n",
              "      <td>2018-02-01</td>\n",
              "      <td>88740e65d5d6b056e0cda098e1ea6313</td>\n",
              "      <td>social</td>\n",
              "      <td>NaN</td>\n",
              "      <td>NaN</td>\n",
              "      <td>NaN</td>\n",
              "      <td>NaN</td>\n",
              "      <td>NaN</td>\n",
              "      <td>NaN</td>\n",
              "      <td>NaN</td>\n",
              "      <td>NaN</td>\n",
              "      <td>NaN</td>\n",
              "      <td>NaN</td>\n",
              "      <td>NaN</td>\n",
              "      <td>NaN</td>\n",
              "      <td>NaN</td>\n",
              "      <td>NaN</td>\n",
              "    </tr>\n",
              "    <tr>\n",
              "      <th>1</th>\n",
              "      <td>8c18d1de7f67e60dbd64e3c07d7e9d5d</td>\n",
              "      <td>2017-10-20</td>\n",
              "      <td>007f9098284a86ee80ddeb25d53e0af8</td>\n",
              "      <td>paid_search</td>\n",
              "      <td>NaN</td>\n",
              "      <td>NaN</td>\n",
              "      <td>NaN</td>\n",
              "      <td>NaN</td>\n",
              "      <td>NaN</td>\n",
              "      <td>NaN</td>\n",
              "      <td>NaN</td>\n",
              "      <td>NaN</td>\n",
              "      <td>NaN</td>\n",
              "      <td>NaN</td>\n",
              "      <td>NaN</td>\n",
              "      <td>NaN</td>\n",
              "      <td>NaN</td>\n",
              "      <td>NaN</td>\n",
              "    </tr>\n",
              "    <tr>\n",
              "      <th>2</th>\n",
              "      <td>b4bc852d233dfefc5131f593b538befa</td>\n",
              "      <td>2018-03-22</td>\n",
              "      <td>a7982125ff7aa3b2054c6e44f9d28522</td>\n",
              "      <td>organic_search</td>\n",
              "      <td>NaN</td>\n",
              "      <td>NaN</td>\n",
              "      <td>NaN</td>\n",
              "      <td>NaN</td>\n",
              "      <td>NaN</td>\n",
              "      <td>NaN</td>\n",
              "      <td>NaN</td>\n",
              "      <td>NaN</td>\n",
              "      <td>NaN</td>\n",
              "      <td>NaN</td>\n",
              "      <td>NaN</td>\n",
              "      <td>NaN</td>\n",
              "      <td>NaN</td>\n",
              "      <td>NaN</td>\n",
              "    </tr>\n",
              "    <tr>\n",
              "      <th>3</th>\n",
              "      <td>6be030b81c75970747525b843c1ef4f8</td>\n",
              "      <td>2018-01-22</td>\n",
              "      <td>d45d558f0daeecf3cccdffe3c59684aa</td>\n",
              "      <td>email</td>\n",
              "      <td>NaN</td>\n",
              "      <td>NaN</td>\n",
              "      <td>NaN</td>\n",
              "      <td>NaN</td>\n",
              "      <td>NaN</td>\n",
              "      <td>NaN</td>\n",
              "      <td>NaN</td>\n",
              "      <td>NaN</td>\n",
              "      <td>NaN</td>\n",
              "      <td>NaN</td>\n",
              "      <td>NaN</td>\n",
              "      <td>NaN</td>\n",
              "      <td>NaN</td>\n",
              "      <td>NaN</td>\n",
              "    </tr>\n",
              "    <tr>\n",
              "      <th>4</th>\n",
              "      <td>5420aad7fec3549a85876ba1c529bd84</td>\n",
              "      <td>2018-02-21</td>\n",
              "      <td>b48ec5f3b04e9068441002a19df93c6c</td>\n",
              "      <td>organic_search</td>\n",
              "      <td>2c43fb513632d29b3b58df74816f1b06</td>\n",
              "      <td>a8387c01a09e99ce014107505b92388c</td>\n",
              "      <td>4ef15afb4b2723d8f3d81e51ec7afefe</td>\n",
              "      <td>2018-02-26 19:58:54</td>\n",
              "      <td>pet</td>\n",
              "      <td>online_medium</td>\n",
              "      <td>cat</td>\n",
              "      <td>NaN</td>\n",
              "      <td>NaN</td>\n",
              "      <td>NaN</td>\n",
              "      <td>reseller</td>\n",
              "      <td>NaN</td>\n",
              "      <td>0.0</td>\n",
              "      <td>1.0</td>\n",
              "    </tr>\n",
              "  </tbody>\n",
              "</table>\n",
              "</div>"
            ],
            "text/plain": [
              "                             mql_id first_contact_date  \\\n",
              "0  dac32acd4db4c29c230538b72f8dd87d         2018-02-01   \n",
              "1  8c18d1de7f67e60dbd64e3c07d7e9d5d         2017-10-20   \n",
              "2  b4bc852d233dfefc5131f593b538befa         2018-03-22   \n",
              "3  6be030b81c75970747525b843c1ef4f8         2018-01-22   \n",
              "4  5420aad7fec3549a85876ba1c529bd84         2018-02-21   \n",
              "\n",
              "                    landing_page_id          origin  \\\n",
              "0  88740e65d5d6b056e0cda098e1ea6313          social   \n",
              "1  007f9098284a86ee80ddeb25d53e0af8     paid_search   \n",
              "2  a7982125ff7aa3b2054c6e44f9d28522  organic_search   \n",
              "3  d45d558f0daeecf3cccdffe3c59684aa           email   \n",
              "4  b48ec5f3b04e9068441002a19df93c6c  organic_search   \n",
              "\n",
              "                          seller_id                            sdr_id  \\\n",
              "0                               NaN                               NaN   \n",
              "1                               NaN                               NaN   \n",
              "2                               NaN                               NaN   \n",
              "3                               NaN                               NaN   \n",
              "4  2c43fb513632d29b3b58df74816f1b06  a8387c01a09e99ce014107505b92388c   \n",
              "\n",
              "                              sr_id             won_date business_segment  \\\n",
              "0                               NaN                  NaN              NaN   \n",
              "1                               NaN                  NaN              NaN   \n",
              "2                               NaN                  NaN              NaN   \n",
              "3                               NaN                  NaN              NaN   \n",
              "4  4ef15afb4b2723d8f3d81e51ec7afefe  2018-02-26 19:58:54              pet   \n",
              "\n",
              "       lead_type lead_behaviour_profile has_company has_gtin average_stock  \\\n",
              "0            NaN                    NaN         NaN      NaN           NaN   \n",
              "1            NaN                    NaN         NaN      NaN           NaN   \n",
              "2            NaN                    NaN         NaN      NaN           NaN   \n",
              "3            NaN                    NaN         NaN      NaN           NaN   \n",
              "4  online_medium                    cat         NaN      NaN           NaN   \n",
              "\n",
              "  business_type  declared_product_catalog_size  declared_monthly_revenue  \\\n",
              "0           NaN                            NaN                       NaN   \n",
              "1           NaN                            NaN                       NaN   \n",
              "2           NaN                            NaN                       NaN   \n",
              "3           NaN                            NaN                       NaN   \n",
              "4      reseller                            NaN                       0.0   \n",
              "\n",
              "   is_closed  \n",
              "0        NaN  \n",
              "1        NaN  \n",
              "2        NaN  \n",
              "3        NaN  \n",
              "4        1.0  "
            ]
          },
          "execution_count": 5,
          "metadata": {},
          "output_type": "execute_result"
        }
      ],
      "source": [
        "closed_qualified.head()"
      ]
    },
    {
      "cell_type": "code",
      "execution_count": 6,
      "id": "Uwjd6-3boWXl",
      "metadata": {
        "colab": {
          "base_uri": "https://localhost:8080/"
        },
        "id": "Uwjd6-3boWXl",
        "outputId": "313ea3a8-8599-46af-9691-49e945303c07"
      },
      "outputs": [
        {
          "name": "stdout",
          "output_type": "stream",
          "text": [
            "<class 'pandas.core.frame.DataFrame'>\n",
            "Int64Index: 8000 entries, 0 to 7999\n",
            "Data columns (total 18 columns):\n",
            " #   Column                         Non-Null Count  Dtype  \n",
            "---  ------                         --------------  -----  \n",
            " 0   mql_id                         8000 non-null   object \n",
            " 1   first_contact_date             8000 non-null   object \n",
            " 2   landing_page_id                8000 non-null   object \n",
            " 3   origin                         7940 non-null   object \n",
            " 4   seller_id                      842 non-null    object \n",
            " 5   sdr_id                         842 non-null    object \n",
            " 6   sr_id                          842 non-null    object \n",
            " 7   won_date                       842 non-null    object \n",
            " 8   business_segment               841 non-null    object \n",
            " 9   lead_type                      836 non-null    object \n",
            " 10  lead_behaviour_profile         665 non-null    object \n",
            " 11  has_company                    63 non-null     object \n",
            " 12  has_gtin                       64 non-null     object \n",
            " 13  average_stock                  66 non-null     object \n",
            " 14  business_type                  832 non-null    object \n",
            " 15  declared_product_catalog_size  69 non-null     float64\n",
            " 16  declared_monthly_revenue       842 non-null    float64\n",
            " 17  is_closed                      842 non-null    float64\n",
            "dtypes: float64(3), object(15)\n",
            "memory usage: 1.2+ MB\n"
          ]
        }
      ],
      "source": [
        "closed_qualified.info()"
      ]
    },
    {
      "cell_type": "markdown",
      "id": "WKsuriXToimG",
      "metadata": {
        "id": "WKsuriXToimG"
      },
      "source": []
    },
    {
      "cell_type": "code",
      "execution_count": 7,
      "id": "cZjYdWjGohLf",
      "metadata": {
        "id": "cZjYdWjGohLf"
      },
      "outputs": [],
      "source": [
        "closed_qualified.loc[closed_qualified.is_closed.isnull(),'is_closed'] = 0"
      ]
    },
    {
      "cell_type": "code",
      "execution_count": null,
      "id": "WUk6RfeWohOt",
      "metadata": {
        "id": "WUk6RfeWohOt"
      },
      "outputs": [],
      "source": []
    },
    {
      "cell_type": "markdown",
      "id": "hFV7DeiZwFFk",
      "metadata": {
        "id": "hFV7DeiZwFFk"
      },
      "source": [
        "- Qual foi a taxa de conversão total?"
      ]
    },
    {
      "cell_type": "code",
      "execution_count": 8,
      "id": "84abyPcwohRQ",
      "metadata": {
        "colab": {
          "base_uri": "https://localhost:8080/"
        },
        "id": "84abyPcwohRQ",
        "outputId": "b521859b-d8d3-462c-bc82-ab3dd7b479ad"
      },
      "outputs": [
        {
          "data": {
            "text/plain": [
              "8000"
            ]
          },
          "execution_count": 8,
          "metadata": {},
          "output_type": "execute_result"
        }
      ],
      "source": [
        "total = closed_qualified.is_closed.count()\n",
        "total"
      ]
    },
    {
      "cell_type": "code",
      "execution_count": 9,
      "id": "WRAg93a4ohUy",
      "metadata": {
        "colab": {
          "base_uri": "https://localhost:8080/"
        },
        "id": "WRAg93a4ohUy",
        "outputId": "9ef4051a-fc59-43e3-faf3-6f1f19455411"
      },
      "outputs": [
        {
          "data": {
            "text/plain": [
              "842.0"
            ]
          },
          "execution_count": 9,
          "metadata": {},
          "output_type": "execute_result"
        }
      ],
      "source": [
        "is_closed = closed_qualified.is_closed.sum()\n",
        "is_closed"
      ]
    },
    {
      "cell_type": "code",
      "execution_count": 10,
      "id": "-EAbwyClzVDD",
      "metadata": {
        "id": "-EAbwyClzVDD"
      },
      "outputs": [],
      "source": [
        "tx_conv_total = (is_closed / total) * 100"
      ]
    },
    {
      "cell_type": "code",
      "execution_count": 11,
      "id": "cUU86QC3zWB-",
      "metadata": {
        "colab": {
          "base_uri": "https://localhost:8080/"
        },
        "id": "cUU86QC3zWB-",
        "outputId": "76387a77-a48d-4a6d-fe4b-3359b3fbddc9"
      },
      "outputs": [
        {
          "name": "stdout",
          "output_type": "stream",
          "text": [
            "A taxa de conversão total é  10.525 %\n"
          ]
        }
      ],
      "source": [
        "print(\"A taxa de conversão total é \",tx_conv_total,\"%\")"
      ]
    },
    {
      "cell_type": "code",
      "execution_count": null,
      "id": "ffYDfbqez7T6",
      "metadata": {
        "id": "ffYDfbqez7T6"
      },
      "outputs": [],
      "source": []
    },
    {
      "cell_type": "markdown",
      "id": "sV12vRdL1506",
      "metadata": {
        "id": "sV12vRdL1506"
      },
      "source": [
        "- Qual foi a taxa de conversão de cada origem?"
      ]
    },
    {
      "cell_type": "code",
      "execution_count": 12,
      "id": "dDpEon_kz7aX",
      "metadata": {
        "id": "dDpEon_kz7aX"
      },
      "outputs": [],
      "source": [
        "conv_origem = closed_qualified.groupby('origin')['is_closed'].count().to_frame('total')"
      ]
    },
    {
      "cell_type": "code",
      "execution_count": 13,
      "id": "gDJ2D2Di3QTg",
      "metadata": {
        "id": "gDJ2D2Di3QTg"
      },
      "outputs": [],
      "source": [
        "conv_origem['closed'] = closed_qualified.groupby('origin')['is_closed'].sum()"
      ]
    },
    {
      "cell_type": "code",
      "execution_count": 14,
      "id": "Hp5gwUwd3oRI",
      "metadata": {
        "id": "Hp5gwUwd3oRI"
      },
      "outputs": [],
      "source": [
        "conv_origem['taxa'] = (conv_origem['closed'] / conv_origem['total'])*100"
      ]
    },
    {
      "cell_type": "code",
      "execution_count": 15,
      "id": "KlrOuY2yz7gs",
      "metadata": {
        "colab": {
          "base_uri": "https://localhost:8080/",
          "height": 394
        },
        "id": "KlrOuY2yz7gs",
        "outputId": "8bb0164c-ca6a-4632-8e89-a48ee0c37f5c"
      },
      "outputs": [
        {
          "data": {
            "text/html": [
              "<div>\n",
              "<style scoped>\n",
              "    .dataframe tbody tr th:only-of-type {\n",
              "        vertical-align: middle;\n",
              "    }\n",
              "\n",
              "    .dataframe tbody tr th {\n",
              "        vertical-align: top;\n",
              "    }\n",
              "\n",
              "    .dataframe thead th {\n",
              "        text-align: right;\n",
              "    }\n",
              "</style>\n",
              "<table border=\"1\" class=\"dataframe\">\n",
              "  <thead>\n",
              "    <tr style=\"text-align: right;\">\n",
              "      <th></th>\n",
              "      <th>total</th>\n",
              "      <th>closed</th>\n",
              "      <th>taxa</th>\n",
              "    </tr>\n",
              "    <tr>\n",
              "      <th>origin</th>\n",
              "      <th></th>\n",
              "      <th></th>\n",
              "      <th></th>\n",
              "    </tr>\n",
              "  </thead>\n",
              "  <tbody>\n",
              "    <tr>\n",
              "      <th>direct_traffic</th>\n",
              "      <td>499</td>\n",
              "      <td>56.0</td>\n",
              "      <td>11.222445</td>\n",
              "    </tr>\n",
              "    <tr>\n",
              "      <th>display</th>\n",
              "      <td>118</td>\n",
              "      <td>6.0</td>\n",
              "      <td>5.084746</td>\n",
              "    </tr>\n",
              "    <tr>\n",
              "      <th>email</th>\n",
              "      <td>493</td>\n",
              "      <td>15.0</td>\n",
              "      <td>3.042596</td>\n",
              "    </tr>\n",
              "    <tr>\n",
              "      <th>organic_search</th>\n",
              "      <td>2296</td>\n",
              "      <td>271.0</td>\n",
              "      <td>11.803136</td>\n",
              "    </tr>\n",
              "    <tr>\n",
              "      <th>other</th>\n",
              "      <td>150</td>\n",
              "      <td>4.0</td>\n",
              "      <td>2.666667</td>\n",
              "    </tr>\n",
              "    <tr>\n",
              "      <th>other_publicities</th>\n",
              "      <td>65</td>\n",
              "      <td>3.0</td>\n",
              "      <td>4.615385</td>\n",
              "    </tr>\n",
              "    <tr>\n",
              "      <th>paid_search</th>\n",
              "      <td>1586</td>\n",
              "      <td>195.0</td>\n",
              "      <td>12.295082</td>\n",
              "    </tr>\n",
              "    <tr>\n",
              "      <th>referral</th>\n",
              "      <td>284</td>\n",
              "      <td>24.0</td>\n",
              "      <td>8.450704</td>\n",
              "    </tr>\n",
              "    <tr>\n",
              "      <th>social</th>\n",
              "      <td>1350</td>\n",
              "      <td>75.0</td>\n",
              "      <td>5.555556</td>\n",
              "    </tr>\n",
              "    <tr>\n",
              "      <th>unknown</th>\n",
              "      <td>1099</td>\n",
              "      <td>179.0</td>\n",
              "      <td>16.287534</td>\n",
              "    </tr>\n",
              "  </tbody>\n",
              "</table>\n",
              "</div>"
            ],
            "text/plain": [
              "                   total  closed       taxa\n",
              "origin                                     \n",
              "direct_traffic       499    56.0  11.222445\n",
              "display              118     6.0   5.084746\n",
              "email                493    15.0   3.042596\n",
              "organic_search      2296   271.0  11.803136\n",
              "other                150     4.0   2.666667\n",
              "other_publicities     65     3.0   4.615385\n",
              "paid_search         1586   195.0  12.295082\n",
              "referral             284    24.0   8.450704\n",
              "social              1350    75.0   5.555556\n",
              "unknown             1099   179.0  16.287534"
            ]
          },
          "execution_count": 15,
          "metadata": {},
          "output_type": "execute_result"
        }
      ],
      "source": [
        "conv_origem"
      ]
    },
    {
      "cell_type": "code",
      "execution_count": null,
      "id": "YZMdKoF97wb6",
      "metadata": {
        "id": "YZMdKoF97wb6"
      },
      "outputs": [],
      "source": []
    },
    {
      "cell_type": "markdown",
      "id": "aNXl8MPL4nIM",
      "metadata": {
        "id": "aNXl8MPL4nIM"
      },
      "source": [
        "- Qual foi a taxa de conversão de cada página inicial?"
      ]
    },
    {
      "cell_type": "code",
      "execution_count": 16,
      "id": "34_LzpM04sUs",
      "metadata": {
        "id": "34_LzpM04sUs"
      },
      "outputs": [],
      "source": [
        "conv_pag = closed_qualified.groupby('landing_page_id')['is_closed'].count().to_frame('total')"
      ]
    },
    {
      "cell_type": "code",
      "execution_count": 17,
      "id": "ZfAIkvdA4tXF",
      "metadata": {
        "id": "ZfAIkvdA4tXF"
      },
      "outputs": [],
      "source": [
        "conv_pag['closed'] = closed_qualified.groupby('landing_page_id')['is_closed'].sum()"
      ]
    },
    {
      "cell_type": "code",
      "execution_count": 18,
      "id": "AZ-Ts_uC4tje",
      "metadata": {
        "id": "AZ-Ts_uC4tje"
      },
      "outputs": [],
      "source": [
        "conv_pag['taxa'] = (conv_pag['closed'] / conv_pag['total'])*100"
      ]
    },
    {
      "cell_type": "code",
      "execution_count": 19,
      "id": "_D0jko6-4sev",
      "metadata": {
        "colab": {
          "base_uri": "https://localhost:8080/",
          "height": 455
        },
        "id": "_D0jko6-4sev",
        "outputId": "b6f3a293-6ed3-4f1d-ecc8-31f535aebb35"
      },
      "outputs": [
        {
          "data": {
            "text/html": [
              "<div>\n",
              "<style scoped>\n",
              "    .dataframe tbody tr th:only-of-type {\n",
              "        vertical-align: middle;\n",
              "    }\n",
              "\n",
              "    .dataframe tbody tr th {\n",
              "        vertical-align: top;\n",
              "    }\n",
              "\n",
              "    .dataframe thead th {\n",
              "        text-align: right;\n",
              "    }\n",
              "</style>\n",
              "<table border=\"1\" class=\"dataframe\">\n",
              "  <thead>\n",
              "    <tr style=\"text-align: right;\">\n",
              "      <th></th>\n",
              "      <th>total</th>\n",
              "      <th>closed</th>\n",
              "      <th>taxa</th>\n",
              "    </tr>\n",
              "    <tr>\n",
              "      <th>landing_page_id</th>\n",
              "      <th></th>\n",
              "      <th></th>\n",
              "      <th></th>\n",
              "    </tr>\n",
              "  </thead>\n",
              "  <tbody>\n",
              "    <tr>\n",
              "      <th>007f9098284a86ee80ddeb25d53e0af8</th>\n",
              "      <td>66</td>\n",
              "      <td>4.0</td>\n",
              "      <td>6.060606</td>\n",
              "    </tr>\n",
              "    <tr>\n",
              "      <th>01850876d34b43494b5f9879c366877b</th>\n",
              "      <td>1</td>\n",
              "      <td>0.0</td>\n",
              "      <td>0.000000</td>\n",
              "    </tr>\n",
              "    <tr>\n",
              "      <th>0218f6be0b76aca72ab4d00ee9e8cf10</th>\n",
              "      <td>48</td>\n",
              "      <td>6.0</td>\n",
              "      <td>12.500000</td>\n",
              "    </tr>\n",
              "    <tr>\n",
              "      <th>03c7c0ace395d80182db07ae2c30f034</th>\n",
              "      <td>1</td>\n",
              "      <td>0.0</td>\n",
              "      <td>0.000000</td>\n",
              "    </tr>\n",
              "    <tr>\n",
              "      <th>04a75b75d5f4f3a16b0178fbe382da00</th>\n",
              "      <td>1</td>\n",
              "      <td>1.0</td>\n",
              "      <td>100.000000</td>\n",
              "    </tr>\n",
              "    <tr>\n",
              "      <th>...</th>\n",
              "      <td>...</td>\n",
              "      <td>...</td>\n",
              "      <td>...</td>\n",
              "    </tr>\n",
              "    <tr>\n",
              "      <th>fd7c4cdfbfb7964b441618d54f88c38b</th>\n",
              "      <td>1</td>\n",
              "      <td>0.0</td>\n",
              "      <td>0.000000</td>\n",
              "    </tr>\n",
              "    <tr>\n",
              "      <th>fd7d977e75d1ac5cfe6b93ffabb150b1</th>\n",
              "      <td>1</td>\n",
              "      <td>0.0</td>\n",
              "      <td>0.000000</td>\n",
              "    </tr>\n",
              "    <tr>\n",
              "      <th>fe82aeadeaea2186478fe6353d6d5301</th>\n",
              "      <td>8</td>\n",
              "      <td>2.0</td>\n",
              "      <td>25.000000</td>\n",
              "    </tr>\n",
              "    <tr>\n",
              "      <th>ff3416719616ad4921acb8c74e21d6f0</th>\n",
              "      <td>11</td>\n",
              "      <td>0.0</td>\n",
              "      <td>0.000000</td>\n",
              "    </tr>\n",
              "    <tr>\n",
              "      <th>ffc62d6945fd1423539ec6d96326c37c</th>\n",
              "      <td>1</td>\n",
              "      <td>1.0</td>\n",
              "      <td>100.000000</td>\n",
              "    </tr>\n",
              "  </tbody>\n",
              "</table>\n",
              "<p>495 rows × 3 columns</p>\n",
              "</div>"
            ],
            "text/plain": [
              "                                  total  closed        taxa\n",
              "landing_page_id                                            \n",
              "007f9098284a86ee80ddeb25d53e0af8     66     4.0    6.060606\n",
              "01850876d34b43494b5f9879c366877b      1     0.0    0.000000\n",
              "0218f6be0b76aca72ab4d00ee9e8cf10     48     6.0   12.500000\n",
              "03c7c0ace395d80182db07ae2c30f034      1     0.0    0.000000\n",
              "04a75b75d5f4f3a16b0178fbe382da00      1     1.0  100.000000\n",
              "...                                 ...     ...         ...\n",
              "fd7c4cdfbfb7964b441618d54f88c38b      1     0.0    0.000000\n",
              "fd7d977e75d1ac5cfe6b93ffabb150b1      1     0.0    0.000000\n",
              "fe82aeadeaea2186478fe6353d6d5301      8     2.0   25.000000\n",
              "ff3416719616ad4921acb8c74e21d6f0     11     0.0    0.000000\n",
              "ffc62d6945fd1423539ec6d96326c37c      1     1.0  100.000000\n",
              "\n",
              "[495 rows x 3 columns]"
            ]
          },
          "execution_count": 19,
          "metadata": {},
          "output_type": "execute_result"
        }
      ],
      "source": [
        "conv_pag"
      ]
    },
    {
      "cell_type": "code",
      "execution_count": null,
      "id": "TlkisQrc4smE",
      "metadata": {
        "id": "TlkisQrc4smE"
      },
      "outputs": [],
      "source": []
    },
    {
      "cell_type": "markdown",
      "id": "hdt2-bNl8cBj",
      "metadata": {
        "id": "hdt2-bNl8cBj"
      },
      "source": [
        "- Para cada SR, qual a receita média declarada dos leads?"
      ]
    },
    {
      "cell_type": "code",
      "execution_count": 20,
      "id": "xMiGpdbW8bCy",
      "metadata": {
        "colab": {
          "base_uri": "https://localhost:8080/",
          "height": 771
        },
        "id": "xMiGpdbW8bCy",
        "outputId": "b3ba7c50-b250-4313-e6a4-4afbb23abb4d"
      },
      "outputs": [
        {
          "data": {
            "text/html": [
              "<div>\n",
              "<style scoped>\n",
              "    .dataframe tbody tr th:only-of-type {\n",
              "        vertical-align: middle;\n",
              "    }\n",
              "\n",
              "    .dataframe tbody tr th {\n",
              "        vertical-align: top;\n",
              "    }\n",
              "\n",
              "    .dataframe thead th {\n",
              "        text-align: right;\n",
              "    }\n",
              "</style>\n",
              "<table border=\"1\" class=\"dataframe\">\n",
              "  <thead>\n",
              "    <tr style=\"text-align: right;\">\n",
              "      <th></th>\n",
              "      <th>receita_media</th>\n",
              "    </tr>\n",
              "    <tr>\n",
              "      <th>sr_id</th>\n",
              "      <th></th>\n",
              "    </tr>\n",
              "  </thead>\n",
              "  <tbody>\n",
              "    <tr>\n",
              "      <th>060c0a26f19f4d66b42e0d8796688490</th>\n",
              "      <td>0.000000</td>\n",
              "    </tr>\n",
              "    <tr>\n",
              "      <th>068066e24f0c643eb1d089c7dd20cd73</th>\n",
              "      <td>7037.037037</td>\n",
              "    </tr>\n",
              "    <tr>\n",
              "      <th>0a0fb2b07d841f84fb6714e35c723075</th>\n",
              "      <td>6000.000000</td>\n",
              "    </tr>\n",
              "    <tr>\n",
              "      <th>2695de1affa7750089c0455f8ce27021</th>\n",
              "      <td>1694.915254</td>\n",
              "    </tr>\n",
              "    <tr>\n",
              "      <th>34d40cdaf94010a1d05b0d6212f9e909</th>\n",
              "      <td>19000.000000</td>\n",
              "    </tr>\n",
              "    <tr>\n",
              "      <th>495d4e95a8cf8bbf8b432b612a2aa328</th>\n",
              "      <td>6666.666667</td>\n",
              "    </tr>\n",
              "    <tr>\n",
              "      <th>4b339f9567d060bcea4f5136b9f5949e</th>\n",
              "      <td>27777.777778</td>\n",
              "    </tr>\n",
              "    <tr>\n",
              "      <th>4ef15afb4b2723d8f3d81e51ec7afefe</th>\n",
              "      <td>377293.233083</td>\n",
              "    </tr>\n",
              "    <tr>\n",
              "      <th>56bf83c4bb35763a51c2baab501b4c67</th>\n",
              "      <td>12500.000000</td>\n",
              "    </tr>\n",
              "    <tr>\n",
              "      <th>6565aa9ce3178a5caf6171827af3a9ba</th>\n",
              "      <td>0.000000</td>\n",
              "    </tr>\n",
              "    <tr>\n",
              "      <th>6aa3b86a83d784b05f0e37e26b20860d</th>\n",
              "      <td>8000.000000</td>\n",
              "    </tr>\n",
              "    <tr>\n",
              "      <th>85fc447d336637ba1df43e793199fbc8</th>\n",
              "      <td>1562.500000</td>\n",
              "    </tr>\n",
              "    <tr>\n",
              "      <th>9749123c950bf8363ace42cb1c2d0815</th>\n",
              "      <td>103571.428571</td>\n",
              "    </tr>\n",
              "    <tr>\n",
              "      <th>9ae085775a198122c5586fa830ff7f2b</th>\n",
              "      <td>0.000000</td>\n",
              "    </tr>\n",
              "    <tr>\n",
              "      <th>9d12ef1a7eca3ec58c545c678af7869c</th>\n",
              "      <td>43333.333333</td>\n",
              "    </tr>\n",
              "    <tr>\n",
              "      <th>9e4d1098a3b0f5da39b0bc48f9876645</th>\n",
              "      <td>0.000000</td>\n",
              "    </tr>\n",
              "    <tr>\n",
              "      <th>a8387c01a09e99ce014107505b92388c</th>\n",
              "      <td>24038.692308</td>\n",
              "    </tr>\n",
              "    <tr>\n",
              "      <th>b90f87164b5f8c2cfa5c8572834dbe3f</th>\n",
              "      <td>0.000000</td>\n",
              "    </tr>\n",
              "    <tr>\n",
              "      <th>c638112b43f1d1b86dcabb0da720c901</th>\n",
              "      <td>0.000000</td>\n",
              "    </tr>\n",
              "    <tr>\n",
              "      <th>d3d1e91a157ea7f90548eef82f1955e3</th>\n",
              "      <td>4939.024390</td>\n",
              "    </tr>\n",
              "    <tr>\n",
              "      <th>de63de0d10a6012430098db33c679b0b</th>\n",
              "      <td>151415.094340</td>\n",
              "    </tr>\n",
              "    <tr>\n",
              "      <th>fbf4aef3f6915dc0c3c97d6812522f6a</th>\n",
              "      <td>0.000000</td>\n",
              "    </tr>\n",
              "  </tbody>\n",
              "</table>\n",
              "</div>"
            ],
            "text/plain": [
              "                                  receita_media\n",
              "sr_id                                          \n",
              "060c0a26f19f4d66b42e0d8796688490       0.000000\n",
              "068066e24f0c643eb1d089c7dd20cd73    7037.037037\n",
              "0a0fb2b07d841f84fb6714e35c723075    6000.000000\n",
              "2695de1affa7750089c0455f8ce27021    1694.915254\n",
              "34d40cdaf94010a1d05b0d6212f9e909   19000.000000\n",
              "495d4e95a8cf8bbf8b432b612a2aa328    6666.666667\n",
              "4b339f9567d060bcea4f5136b9f5949e   27777.777778\n",
              "4ef15afb4b2723d8f3d81e51ec7afefe  377293.233083\n",
              "56bf83c4bb35763a51c2baab501b4c67   12500.000000\n",
              "6565aa9ce3178a5caf6171827af3a9ba       0.000000\n",
              "6aa3b86a83d784b05f0e37e26b20860d    8000.000000\n",
              "85fc447d336637ba1df43e793199fbc8    1562.500000\n",
              "9749123c950bf8363ace42cb1c2d0815  103571.428571\n",
              "9ae085775a198122c5586fa830ff7f2b       0.000000\n",
              "9d12ef1a7eca3ec58c545c678af7869c   43333.333333\n",
              "9e4d1098a3b0f5da39b0bc48f9876645       0.000000\n",
              "a8387c01a09e99ce014107505b92388c   24038.692308\n",
              "b90f87164b5f8c2cfa5c8572834dbe3f       0.000000\n",
              "c638112b43f1d1b86dcabb0da720c901       0.000000\n",
              "d3d1e91a157ea7f90548eef82f1955e3    4939.024390\n",
              "de63de0d10a6012430098db33c679b0b  151415.094340\n",
              "fbf4aef3f6915dc0c3c97d6812522f6a       0.000000"
            ]
          },
          "execution_count": 20,
          "metadata": {},
          "output_type": "execute_result"
        }
      ],
      "source": [
        "closed_qualified.groupby('sr_id')['declared_monthly_revenue'].mean().to_frame('receita_media')"
      ]
    },
    {
      "cell_type": "code",
      "execution_count": null,
      "id": "zuuQCsbP4spp",
      "metadata": {
        "id": "zuuQCsbP4spp"
      },
      "outputs": [],
      "source": []
    },
    {
      "cell_type": "markdown",
      "id": "GZwe0HvX-IUS",
      "metadata": {
        "id": "GZwe0HvX-IUS"
      },
      "source": [
        "- Para cada SR, quantos de cada business_type a pessoa converteu?"
      ]
    },
    {
      "cell_type": "code",
      "execution_count": 21,
      "id": "1mKA3eZ7-Dme",
      "metadata": {
        "colab": {
          "base_uri": "https://localhost:8080/",
          "height": 1000
        },
        "id": "1mKA3eZ7-Dme",
        "outputId": "2e505cba-9e49-41bb-dd4a-60d42a282127"
      },
      "outputs": [
        {
          "data": {
            "text/html": [
              "<div>\n",
              "<style scoped>\n",
              "    .dataframe tbody tr th:only-of-type {\n",
              "        vertical-align: middle;\n",
              "    }\n",
              "\n",
              "    .dataframe tbody tr th {\n",
              "        vertical-align: top;\n",
              "    }\n",
              "\n",
              "    .dataframe thead th {\n",
              "        text-align: right;\n",
              "    }\n",
              "</style>\n",
              "<table border=\"1\" class=\"dataframe\">\n",
              "  <thead>\n",
              "    <tr style=\"text-align: right;\">\n",
              "      <th></th>\n",
              "      <th></th>\n",
              "      <th>converteu</th>\n",
              "    </tr>\n",
              "    <tr>\n",
              "      <th>sr_id</th>\n",
              "      <th>business_type</th>\n",
              "      <th></th>\n",
              "    </tr>\n",
              "  </thead>\n",
              "  <tbody>\n",
              "    <tr>\n",
              "      <th rowspan=\"2\" valign=\"top\">060c0a26f19f4d66b42e0d8796688490</th>\n",
              "      <th>manufacturer</th>\n",
              "      <td>9</td>\n",
              "    </tr>\n",
              "    <tr>\n",
              "      <th>reseller</th>\n",
              "      <td>23</td>\n",
              "    </tr>\n",
              "    <tr>\n",
              "      <th rowspan=\"2\" valign=\"top\">068066e24f0c643eb1d089c7dd20cd73</th>\n",
              "      <th>manufacturer</th>\n",
              "      <td>6</td>\n",
              "    </tr>\n",
              "    <tr>\n",
              "      <th>reseller</th>\n",
              "      <td>21</td>\n",
              "    </tr>\n",
              "    <tr>\n",
              "      <th>0a0fb2b07d841f84fb6714e35c723075</th>\n",
              "      <th>other</th>\n",
              "      <td>1</td>\n",
              "    </tr>\n",
              "    <tr>\n",
              "      <th rowspan=\"2\" valign=\"top\">2695de1affa7750089c0455f8ce27021</th>\n",
              "      <th>manufacturer</th>\n",
              "      <td>16</td>\n",
              "    </tr>\n",
              "    <tr>\n",
              "      <th>reseller</th>\n",
              "      <td>42</td>\n",
              "    </tr>\n",
              "    <tr>\n",
              "      <th rowspan=\"3\" valign=\"top\">34d40cdaf94010a1d05b0d6212f9e909</th>\n",
              "      <th>manufacturer</th>\n",
              "      <td>1</td>\n",
              "    </tr>\n",
              "    <tr>\n",
              "      <th>other</th>\n",
              "      <td>1</td>\n",
              "    </tr>\n",
              "    <tr>\n",
              "      <th>reseller</th>\n",
              "      <td>8</td>\n",
              "    </tr>\n",
              "    <tr>\n",
              "      <th rowspan=\"2\" valign=\"top\">495d4e95a8cf8bbf8b432b612a2aa328</th>\n",
              "      <th>manufacturer</th>\n",
              "      <td>14</td>\n",
              "    </tr>\n",
              "    <tr>\n",
              "      <th>reseller</th>\n",
              "      <td>47</td>\n",
              "    </tr>\n",
              "    <tr>\n",
              "      <th rowspan=\"2\" valign=\"top\">4b339f9567d060bcea4f5136b9f5949e</th>\n",
              "      <th>manufacturer</th>\n",
              "      <td>2</td>\n",
              "    </tr>\n",
              "    <tr>\n",
              "      <th>reseller</th>\n",
              "      <td>6</td>\n",
              "    </tr>\n",
              "    <tr>\n",
              "      <th rowspan=\"2\" valign=\"top\">4ef15afb4b2723d8f3d81e51ec7afefe</th>\n",
              "      <th>manufacturer</th>\n",
              "      <td>43</td>\n",
              "    </tr>\n",
              "    <tr>\n",
              "      <th>reseller</th>\n",
              "      <td>90</td>\n",
              "    </tr>\n",
              "    <tr>\n",
              "      <th rowspan=\"2\" valign=\"top\">56bf83c4bb35763a51c2baab501b4c67</th>\n",
              "      <th>manufacturer</th>\n",
              "      <td>8</td>\n",
              "    </tr>\n",
              "    <tr>\n",
              "      <th>reseller</th>\n",
              "      <td>16</td>\n",
              "    </tr>\n",
              "    <tr>\n",
              "      <th rowspan=\"2\" valign=\"top\">6565aa9ce3178a5caf6171827af3a9ba</th>\n",
              "      <th>manufacturer</th>\n",
              "      <td>19</td>\n",
              "    </tr>\n",
              "    <tr>\n",
              "      <th>reseller</th>\n",
              "      <td>54</td>\n",
              "    </tr>\n",
              "    <tr>\n",
              "      <th>6aa3b86a83d784b05f0e37e26b20860d</th>\n",
              "      <th>reseller</th>\n",
              "      <td>1</td>\n",
              "    </tr>\n",
              "    <tr>\n",
              "      <th rowspan=\"2\" valign=\"top\">85fc447d336637ba1df43e793199fbc8</th>\n",
              "      <th>manufacturer</th>\n",
              "      <td>25</td>\n",
              "    </tr>\n",
              "    <tr>\n",
              "      <th>reseller</th>\n",
              "      <td>39</td>\n",
              "    </tr>\n",
              "    <tr>\n",
              "      <th rowspan=\"2\" valign=\"top\">9749123c950bf8363ace42cb1c2d0815</th>\n",
              "      <th>manufacturer</th>\n",
              "      <td>2</td>\n",
              "    </tr>\n",
              "    <tr>\n",
              "      <th>reseller</th>\n",
              "      <td>5</td>\n",
              "    </tr>\n",
              "    <tr>\n",
              "      <th rowspan=\"2\" valign=\"top\">9ae085775a198122c5586fa830ff7f2b</th>\n",
              "      <th>manufacturer</th>\n",
              "      <td>15</td>\n",
              "    </tr>\n",
              "    <tr>\n",
              "      <th>reseller</th>\n",
              "      <td>36</td>\n",
              "    </tr>\n",
              "    <tr>\n",
              "      <th rowspan=\"2\" valign=\"top\">9d12ef1a7eca3ec58c545c678af7869c</th>\n",
              "      <th>manufacturer</th>\n",
              "      <td>2</td>\n",
              "    </tr>\n",
              "    <tr>\n",
              "      <th>reseller</th>\n",
              "      <td>4</td>\n",
              "    </tr>\n",
              "    <tr>\n",
              "      <th rowspan=\"2\" valign=\"top\">9e4d1098a3b0f5da39b0bc48f9876645</th>\n",
              "      <th>manufacturer</th>\n",
              "      <td>10</td>\n",
              "    </tr>\n",
              "    <tr>\n",
              "      <th>reseller</th>\n",
              "      <td>14</td>\n",
              "    </tr>\n",
              "    <tr>\n",
              "      <th rowspan=\"3\" valign=\"top\">a8387c01a09e99ce014107505b92388c</th>\n",
              "      <th>manufacturer</th>\n",
              "      <td>4</td>\n",
              "    </tr>\n",
              "    <tr>\n",
              "      <th>other</th>\n",
              "      <td>1</td>\n",
              "    </tr>\n",
              "    <tr>\n",
              "      <th>reseller</th>\n",
              "      <td>21</td>\n",
              "    </tr>\n",
              "    <tr>\n",
              "      <th>b90f87164b5f8c2cfa5c8572834dbe3f</th>\n",
              "      <th>reseller</th>\n",
              "      <td>1</td>\n",
              "    </tr>\n",
              "    <tr>\n",
              "      <th rowspan=\"2\" valign=\"top\">c638112b43f1d1b86dcabb0da720c901</th>\n",
              "      <th>manufacturer</th>\n",
              "      <td>12</td>\n",
              "    </tr>\n",
              "    <tr>\n",
              "      <th>reseller</th>\n",
              "      <td>22</td>\n",
              "    </tr>\n",
              "    <tr>\n",
              "      <th rowspan=\"2\" valign=\"top\">d3d1e91a157ea7f90548eef82f1955e3</th>\n",
              "      <th>manufacturer</th>\n",
              "      <td>19</td>\n",
              "    </tr>\n",
              "    <tr>\n",
              "      <th>reseller</th>\n",
              "      <td>61</td>\n",
              "    </tr>\n",
              "    <tr>\n",
              "      <th rowspan=\"2\" valign=\"top\">de63de0d10a6012430098db33c679b0b</th>\n",
              "      <th>manufacturer</th>\n",
              "      <td>12</td>\n",
              "    </tr>\n",
              "    <tr>\n",
              "      <th>reseller</th>\n",
              "      <td>40</td>\n",
              "    </tr>\n",
              "    <tr>\n",
              "      <th rowspan=\"2\" valign=\"top\">fbf4aef3f6915dc0c3c97d6812522f6a</th>\n",
              "      <th>manufacturer</th>\n",
              "      <td>23</td>\n",
              "    </tr>\n",
              "    <tr>\n",
              "      <th>reseller</th>\n",
              "      <td>36</td>\n",
              "    </tr>\n",
              "  </tbody>\n",
              "</table>\n",
              "</div>"
            ],
            "text/plain": [
              "                                                converteu\n",
              "sr_id                            business_type           \n",
              "060c0a26f19f4d66b42e0d8796688490 manufacturer           9\n",
              "                                 reseller              23\n",
              "068066e24f0c643eb1d089c7dd20cd73 manufacturer           6\n",
              "                                 reseller              21\n",
              "0a0fb2b07d841f84fb6714e35c723075 other                  1\n",
              "2695de1affa7750089c0455f8ce27021 manufacturer          16\n",
              "                                 reseller              42\n",
              "34d40cdaf94010a1d05b0d6212f9e909 manufacturer           1\n",
              "                                 other                  1\n",
              "                                 reseller               8\n",
              "495d4e95a8cf8bbf8b432b612a2aa328 manufacturer          14\n",
              "                                 reseller              47\n",
              "4b339f9567d060bcea4f5136b9f5949e manufacturer           2\n",
              "                                 reseller               6\n",
              "4ef15afb4b2723d8f3d81e51ec7afefe manufacturer          43\n",
              "                                 reseller              90\n",
              "56bf83c4bb35763a51c2baab501b4c67 manufacturer           8\n",
              "                                 reseller              16\n",
              "6565aa9ce3178a5caf6171827af3a9ba manufacturer          19\n",
              "                                 reseller              54\n",
              "6aa3b86a83d784b05f0e37e26b20860d reseller               1\n",
              "85fc447d336637ba1df43e793199fbc8 manufacturer          25\n",
              "                                 reseller              39\n",
              "9749123c950bf8363ace42cb1c2d0815 manufacturer           2\n",
              "                                 reseller               5\n",
              "9ae085775a198122c5586fa830ff7f2b manufacturer          15\n",
              "                                 reseller              36\n",
              "9d12ef1a7eca3ec58c545c678af7869c manufacturer           2\n",
              "                                 reseller               4\n",
              "9e4d1098a3b0f5da39b0bc48f9876645 manufacturer          10\n",
              "                                 reseller              14\n",
              "a8387c01a09e99ce014107505b92388c manufacturer           4\n",
              "                                 other                  1\n",
              "                                 reseller              21\n",
              "b90f87164b5f8c2cfa5c8572834dbe3f reseller               1\n",
              "c638112b43f1d1b86dcabb0da720c901 manufacturer          12\n",
              "                                 reseller              22\n",
              "d3d1e91a157ea7f90548eef82f1955e3 manufacturer          19\n",
              "                                 reseller              61\n",
              "de63de0d10a6012430098db33c679b0b manufacturer          12\n",
              "                                 reseller              40\n",
              "fbf4aef3f6915dc0c3c97d6812522f6a manufacturer          23\n",
              "                                 reseller              36"
            ]
          },
          "execution_count": 21,
          "metadata": {},
          "output_type": "execute_result"
        }
      ],
      "source": [
        "closed_qualified.groupby(['sr_id','business_type'])['is_closed'].count().to_frame('converteu')"
      ]
    },
    {
      "cell_type": "code",
      "execution_count": null,
      "id": "OtZNxift_vO6",
      "metadata": {
        "id": "OtZNxift_vO6"
      },
      "outputs": [],
      "source": []
    },
    {
      "cell_type": "markdown",
      "id": "aoqSHVpW_nbW",
      "metadata": {
        "id": "aoqSHVpW_nbW"
      },
      "source": [
        "- Para cada SR, quantos de cada lead_behaviour_profile a pessoa converteu?"
      ]
    },
    {
      "cell_type": "code",
      "execution_count": 22,
      "id": "yMBY-5Ws-JNC",
      "metadata": {
        "colab": {
          "base_uri": "https://localhost:8080/",
          "height": 455
        },
        "id": "yMBY-5Ws-JNC",
        "outputId": "e9efea0b-88ad-4d94-d345-d676e7dc5ae7"
      },
      "outputs": [
        {
          "data": {
            "text/html": [
              "<div>\n",
              "<style scoped>\n",
              "    .dataframe tbody tr th:only-of-type {\n",
              "        vertical-align: middle;\n",
              "    }\n",
              "\n",
              "    .dataframe tbody tr th {\n",
              "        vertical-align: top;\n",
              "    }\n",
              "\n",
              "    .dataframe thead th {\n",
              "        text-align: right;\n",
              "    }\n",
              "</style>\n",
              "<table border=\"1\" class=\"dataframe\">\n",
              "  <thead>\n",
              "    <tr style=\"text-align: right;\">\n",
              "      <th></th>\n",
              "      <th></th>\n",
              "      <th>converteu</th>\n",
              "    </tr>\n",
              "    <tr>\n",
              "      <th>sr_id</th>\n",
              "      <th>lead_behaviour_profile</th>\n",
              "      <th></th>\n",
              "    </tr>\n",
              "  </thead>\n",
              "  <tbody>\n",
              "    <tr>\n",
              "      <th rowspan=\"4\" valign=\"top\">060c0a26f19f4d66b42e0d8796688490</th>\n",
              "      <th>cat</th>\n",
              "      <td>15</td>\n",
              "    </tr>\n",
              "    <tr>\n",
              "      <th>eagle</th>\n",
              "      <td>2</td>\n",
              "    </tr>\n",
              "    <tr>\n",
              "      <th>shark</th>\n",
              "      <td>1</td>\n",
              "    </tr>\n",
              "    <tr>\n",
              "      <th>wolf</th>\n",
              "      <td>6</td>\n",
              "    </tr>\n",
              "    <tr>\n",
              "      <th>068066e24f0c643eb1d089c7dd20cd73</th>\n",
              "      <th>cat</th>\n",
              "      <td>11</td>\n",
              "    </tr>\n",
              "    <tr>\n",
              "      <th>...</th>\n",
              "      <th>...</th>\n",
              "      <td>...</td>\n",
              "    </tr>\n",
              "    <tr>\n",
              "      <th>de63de0d10a6012430098db33c679b0b</th>\n",
              "      <th>wolf</th>\n",
              "      <td>5</td>\n",
              "    </tr>\n",
              "    <tr>\n",
              "      <th rowspan=\"4\" valign=\"top\">fbf4aef3f6915dc0c3c97d6812522f6a</th>\n",
              "      <th>cat</th>\n",
              "      <td>30</td>\n",
              "    </tr>\n",
              "    <tr>\n",
              "      <th>eagle</th>\n",
              "      <td>9</td>\n",
              "    </tr>\n",
              "    <tr>\n",
              "      <th>shark</th>\n",
              "      <td>2</td>\n",
              "    </tr>\n",
              "    <tr>\n",
              "      <th>wolf</th>\n",
              "      <td>2</td>\n",
              "    </tr>\n",
              "  </tbody>\n",
              "</table>\n",
              "<p>80 rows × 1 columns</p>\n",
              "</div>"
            ],
            "text/plain": [
              "                                                         converteu\n",
              "sr_id                            lead_behaviour_profile           \n",
              "060c0a26f19f4d66b42e0d8796688490 cat                            15\n",
              "                                 eagle                           2\n",
              "                                 shark                           1\n",
              "                                 wolf                            6\n",
              "068066e24f0c643eb1d089c7dd20cd73 cat                            11\n",
              "...                                                            ...\n",
              "de63de0d10a6012430098db33c679b0b wolf                            5\n",
              "fbf4aef3f6915dc0c3c97d6812522f6a cat                            30\n",
              "                                 eagle                           9\n",
              "                                 shark                           2\n",
              "                                 wolf                            2\n",
              "\n",
              "[80 rows x 1 columns]"
            ]
          },
          "execution_count": 22,
          "metadata": {},
          "output_type": "execute_result"
        }
      ],
      "source": [
        "closed_qualified.groupby(['sr_id','lead_behaviour_profile'])['is_closed'].count().to_frame('converteu')"
      ]
    },
    {
      "cell_type": "code",
      "execution_count": null,
      "id": "bfb2twPf-JQJ",
      "metadata": {
        "id": "bfb2twPf-JQJ"
      },
      "outputs": [],
      "source": []
    },
    {
      "cell_type": "markdown",
      "id": "Fq89fs3j_rD2",
      "metadata": {
        "id": "Fq89fs3j_rD2"
      },
      "source": [
        "- Para cada SR, quantos de cada lead_type a pessoa converteu?"
      ]
    },
    {
      "cell_type": "code",
      "execution_count": 23,
      "id": "luNERf22-Dpx",
      "metadata": {
        "colab": {
          "base_uri": "https://localhost:8080/",
          "height": 455
        },
        "id": "luNERf22-Dpx",
        "outputId": "c4981e14-5d01-4ce4-8188-eb55fc504f42"
      },
      "outputs": [
        {
          "data": {
            "text/html": [
              "<div>\n",
              "<style scoped>\n",
              "    .dataframe tbody tr th:only-of-type {\n",
              "        vertical-align: middle;\n",
              "    }\n",
              "\n",
              "    .dataframe tbody tr th {\n",
              "        vertical-align: top;\n",
              "    }\n",
              "\n",
              "    .dataframe thead th {\n",
              "        text-align: right;\n",
              "    }\n",
              "</style>\n",
              "<table border=\"1\" class=\"dataframe\">\n",
              "  <thead>\n",
              "    <tr style=\"text-align: right;\">\n",
              "      <th></th>\n",
              "      <th></th>\n",
              "      <th>converteu</th>\n",
              "    </tr>\n",
              "    <tr>\n",
              "      <th>sr_id</th>\n",
              "      <th>lead_type</th>\n",
              "      <th></th>\n",
              "    </tr>\n",
              "  </thead>\n",
              "  <tbody>\n",
              "    <tr>\n",
              "      <th rowspan=\"5\" valign=\"top\">060c0a26f19f4d66b42e0d8796688490</th>\n",
              "      <th>industry</th>\n",
              "      <td>8</td>\n",
              "    </tr>\n",
              "    <tr>\n",
              "      <th>offline</th>\n",
              "      <td>1</td>\n",
              "    </tr>\n",
              "    <tr>\n",
              "      <th>online_beginner</th>\n",
              "      <td>3</td>\n",
              "    </tr>\n",
              "    <tr>\n",
              "      <th>online_big</th>\n",
              "      <td>2</td>\n",
              "    </tr>\n",
              "    <tr>\n",
              "      <th>online_medium</th>\n",
              "      <td>15</td>\n",
              "    </tr>\n",
              "    <tr>\n",
              "      <th>...</th>\n",
              "      <th>...</th>\n",
              "      <td>...</td>\n",
              "    </tr>\n",
              "    <tr>\n",
              "      <th rowspan=\"5\" valign=\"top\">fbf4aef3f6915dc0c3c97d6812522f6a</th>\n",
              "      <th>online_beginner</th>\n",
              "      <td>1</td>\n",
              "    </tr>\n",
              "    <tr>\n",
              "      <th>online_big</th>\n",
              "      <td>8</td>\n",
              "    </tr>\n",
              "    <tr>\n",
              "      <th>online_medium</th>\n",
              "      <td>30</td>\n",
              "    </tr>\n",
              "    <tr>\n",
              "      <th>online_small</th>\n",
              "      <td>6</td>\n",
              "    </tr>\n",
              "    <tr>\n",
              "      <th>online_top</th>\n",
              "      <td>2</td>\n",
              "    </tr>\n",
              "  </tbody>\n",
              "</table>\n",
              "<p>118 rows × 1 columns</p>\n",
              "</div>"
            ],
            "text/plain": [
              "                                                  converteu\n",
              "sr_id                            lead_type                 \n",
              "060c0a26f19f4d66b42e0d8796688490 industry                 8\n",
              "                                 offline                  1\n",
              "                                 online_beginner          3\n",
              "                                 online_big               2\n",
              "                                 online_medium           15\n",
              "...                                                     ...\n",
              "fbf4aef3f6915dc0c3c97d6812522f6a online_beginner          1\n",
              "                                 online_big               8\n",
              "                                 online_medium           30\n",
              "                                 online_small             6\n",
              "                                 online_top               2\n",
              "\n",
              "[118 rows x 1 columns]"
            ]
          },
          "execution_count": 23,
          "metadata": {},
          "output_type": "execute_result"
        }
      ],
      "source": [
        "closed_qualified.groupby(['sr_id','lead_type'])['is_closed'].count().to_frame('converteu')"
      ]
    },
    {
      "cell_type": "code",
      "execution_count": null,
      "id": "bttZBOfT_t-k",
      "metadata": {
        "id": "bttZBOfT_t-k"
      },
      "outputs": [],
      "source": []
    },
    {
      "cell_type": "code",
      "execution_count": null,
      "id": "y48Z9EtS_uCA",
      "metadata": {
        "id": "y48Z9EtS_uCA"
      },
      "outputs": [],
      "source": []
    }
  ],
  "metadata": {
    "colab": {
      "name": "trabalho.ipynb",
      "provenance": []
    },
    "interpreter": {
      "hash": "6abffce6fe6c8511d3149ea1590061ee96327665a0aaf77dba104c731d087d0e"
    },
    "kernelspec": {
      "display_name": "Python ('curso')",
      "language": "python",
      "name": "python3"
    },
    "language_info": {
      "codemirror_mode": {
        "name": "ipython",
        "version": 3
      },
      "file_extension": ".py",
      "mimetype": "text/x-python",
      "name": "python",
      "nbconvert_exporter": "python",
      "pygments_lexer": "ipython3",
      "version": "3.8.7"
    }
  },
  "nbformat": 4,
  "nbformat_minor": 5
}
